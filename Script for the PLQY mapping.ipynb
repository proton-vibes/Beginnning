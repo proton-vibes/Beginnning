{
 "cells": [
  {
   "cell_type": "code",
   "execution_count": 1,
   "metadata": {
    "collapsed": true
   },
   "outputs": [],
   "source": [
    "import pandas as pd\n",
    "import numpy as np\n",
    "import matplotlib.pyplot as plt\n",
    "import seaborn as sns\n",
    "from parameter_formatting import parameter_formatting\n",
    "from parameter_formatting_WL import parameter_formatting_WL\n",
    "from parameter_formatting_data import parameter_formatting_data\n",
    "\n",
    "%matplotlib inline"
   ]
  },
  {
   "cell_type": "code",
   "execution_count": 2,
   "metadata": {
    "collapsed": true
   },
   "outputs": [],
   "source": [
    "#adding some constants\n",
    "h = 6.62607004*(10**-34)\n",
    "c = 2.99792458*(10**8)\n",
    "\n",
    "responsivity = pd.read_csv(\"responsivity.csv\")  #ratio of generated photocurrent to incident power (A/W)    \n",
    "Ephoton = (h*c)/((responsivity.loc[:,\"wavelength\"])*10**-9)     #calculate the energy of photons (J)   \n",
    "\n",
    "no_of_photons = responsivity.loc[:,\"responsivity\"]*Ephoton      #multiplying the energy of photon with the responsivity (A.s)\n",
    "responsivity = pd.concat([responsivity, no_of_photons], axis = 1)     #adding the photons coloum to responsivity\n",
    "responsivity.columns = ['wavelength', 'responsivity', 'no of photons(A.s)'] #renaming all the coloumn"
   ]
  },
  {
   "cell_type": "code",
   "execution_count": 3,
   "metadata": {
    "collapsed": true
   },
   "outputs": [],
   "source": [
    "#responsivity.loc[43] "
   ]
  },
  {
   "cell_type": "code",
   "execution_count": 4,
   "metadata": {
    "collapsed": true
   },
   "outputs": [],
   "source": [
    "#responsivity.head()"
   ]
  },
  {
   "cell_type": "code",
   "execution_count": 5,
   "metadata": {
    "collapsed": true
   },
   "outputs": [],
   "source": [
    "#Ephoton[28] #28 is the index of 480nm"
   ]
  },
  {
   "cell_type": "code",
   "execution_count": 6,
   "metadata": {
    "collapsed": true
   },
   "outputs": [],
   "source": [
    "#responsivity.iloc[43:54,:] #responsivity at the wavelength of 630 nm"
   ]
  },
  {
   "cell_type": "code",
   "execution_count": 7,
   "metadata": {
    "collapsed": true
   },
   "outputs": [],
   "source": [
    "PDcal = parameter_formatting_WL(\"PDcal.csv\")                                   #format the PDcal file as required\n",
    "\n",
    "PowerCal = PDcal.loc[:, ['Wavelength(nm)','IS(A)', 'M(V)']]      #retreive data only at excitation wavelength (480nm)\n",
    "\n",
    "PowerCal_1 = PowerCal['IS(A)']/PowerCal['M(V)']            #dividing IS(current at detector) by beam monitor\n",
    "\n",
    "PowerCal = pd.concat([PowerCal, PowerCal_1], axis = 1)              #adding the new column to the powercal dataframe\n",
    "\n",
    "PowerCal.columns = ['Wavelength(nm)','IS(A)','M(V)','ISbyM']                         #renaming all the columns\n",
    "\n",
    "PowerCal = PowerCal.groupby(np.arange(len(PowerCal))//5).mean()    #taking mean of 5 values rowwise\n",
    "\n",
    "#abs flux-total photons hitting the PD at 480nm ie 3,28. It is basically calculating the photon flux hitting the PD.\n",
    "#It is done by simply dividing the current reading in the PD by no of photons. Also the current at PD is divided by beam monitor\n",
    "# to standardize everything.\n",
    "AFluxIn = PowerCal.loc[0,'ISbyM']/responsivity.loc[43, 'no of photons(A.s)'] # in (1/V.s)"
   ]
  },
  {
   "cell_type": "code",
   "execution_count": 8,
   "metadata": {
    "collapsed": true
   },
   "outputs": [],
   "source": [
    "#PowerCal.loc[0]"
   ]
  },
  {
   "cell_type": "code",
   "execution_count": 9,
   "metadata": {
    "collapsed": true
   },
   "outputs": [],
   "source": [
    "#AFluxIn"
   ]
  },
  {
   "cell_type": "code",
   "execution_count": 10,
   "metadata": {
    "collapsed": true
   },
   "outputs": [],
   "source": [
    "#responsivity[29:39]"
   ]
  },
  {
   "cell_type": "code",
   "execution_count": 11,
   "metadata": {
    "collapsed": true
   },
   "outputs": [],
   "source": [
    "#PowerCal"
   ]
  },
  {
   "cell_type": "code",
   "execution_count": 12,
   "metadata": {
    "collapsed": true
   },
   "outputs": [],
   "source": [
    "# References for Abs reflection\n",
    "\n",
    "glass_SP = parameter_formatting(\"Glass_SP.csv\")\n",
    "r1 = glass_SP.loc[630,['R(V)','M(V)']]                  #retreive data only at excitation wavelength (630nm)\n",
    "r2 = r1['R(V)']/r1['M(V)']/0.042\n",
    "R = pd.concat([r1,r2], axis = 1)\n",
    "R.columns = ['R(V)', 'M(V)', 'R by M']\n",
    "R=R.mean(axis=0)\n",
    "\n",
    "RrefI = R['R by M']                            #reflection at excitation wavelength ie. 630 nm\n",
    "\n",
    "t1 = glass_SP.loc[630,['IS(A)','M(V)']]        #excitation wavelength indexes\n",
    "t2 = t1['IS(A)']/r1['M(V)']/0.93\n",
    "T = pd.concat([t1,t2], axis = 1)\n",
    "T.columns = ['IS(A)', 'M(V)', 'IS by M']\n",
    "T=T.mean(axis=0)\n",
    "\n",
    "Tglass = T['IS by M']\n",
    "\n",
    "BrefI = (glass_SP.loc[630,['M(V)']]).mean(axis=0)         #beam monitor reference at excitation wavelength (480nm)"
   ]
  },
  {
   "cell_type": "code",
   "execution_count": 13,
   "metadata": {
    "collapsed": true
   },
   "outputs": [],
   "source": [
    "#AFluxIn"
   ]
  },
  {
   "cell_type": "code",
   "execution_count": 14,
   "metadata": {
    "collapsed": true
   },
   "outputs": [],
   "source": [
    "#BrefI"
   ]
  },
  {
   "cell_type": "code",
   "execution_count": 15,
   "metadata": {
    "collapsed": true
   },
   "outputs": [],
   "source": [
    "#RrefI"
   ]
  },
  {
   "cell_type": "code",
   "execution_count": 16,
   "metadata": {
    "collapsed": true
   },
   "outputs": [],
   "source": [
    "#Tglass"
   ]
  },
  {
   "cell_type": "code",
   "execution_count": 17,
   "metadata": {
    "collapsed": true
   },
   "outputs": [],
   "source": [
    "# References for PL reflection\n",
    "\n",
    "glass_LP = parameter_formatting(\"Glass_LP.csv\")\n",
    "\n",
    "g1 = glass_LP.loc[:,\"R(V)\"]/glass_LP.loc[:,\"M(V)\"]      #division of RV by MV\n",
    "RrefPL = g1.groupby(np.arange(len(g1))//5).mean()       #taking mean of 5 values rowwise\n",
    "\n",
    "g2 = glass_LP.loc[:,\"IS(A)\"]/glass_LP.loc[:,\"M(V)\"]\n",
    "ISrefPL = g2.groupby(np.arange(len(g2))//5).mean()\n",
    "\n",
    "g3 = glass_LP.loc[:,[\"Wavelength(nm)\",\"M(V)\"]]\n",
    "BrefPL = g3.groupby(np.arange(len(g3))//5).mean()\n",
    "\n",
    "#3:10 and 46:53 are the Pl WL 660 to 730\n",
    "PLFluxIn = (PowerCal.loc[3:10,\"ISbyM\"].mean())/(responsivity.loc[46:53,'no of photons(A.s)'].mean()) #Photon per voltBM\n",
    "\n",
    "#3:10 is 660 to 730\n",
    "RPLEff = (0.04*PLFluxIn)/(RrefPL.loc[3:10].mean()) #Photons per voltR"
   ]
  },
  {
   "cell_type": "code",
   "execution_count": 18,
   "metadata": {
    "collapsed": true
   },
   "outputs": [],
   "source": [
    "#responsivity.loc[43:53]"
   ]
  },
  {
   "cell_type": "code",
   "execution_count": 19,
   "metadata": {
    "collapsed": true
   },
   "outputs": [],
   "source": [
    "# Reference for miss (transmission)\n",
    "\n",
    "miss_SP = parameter_formatting_WL(\"miss_SP.csv\")\n",
    "WL1 = miss_SP.loc[:,'Wavelength(nm)'].groupby(np.arange(len(miss_SP.loc[:,'Wavelength(nm)']))//5).mean() #index for WL\n",
    "\n",
    "ISmiss1 = (miss_SP.loc[:,'IS(A)']/miss_SP.loc[:,'M(V)'])\n",
    "ISmiss_a = ISmiss1.groupby(np.arange(len(ISmiss1))//5).mean()       #taking mean of 5 values rowwise\n",
    "\n",
    "ISrefI = ISmiss_a[0] #transmission at excitation ie 630nm ie 0"
   ]
  },
  {
   "cell_type": "code",
   "execution_count": 20,
   "metadata": {
    "collapsed": true
   },
   "outputs": [],
   "source": [
    "#RrefPL"
   ]
  },
  {
   "cell_type": "code",
   "execution_count": 21,
   "metadata": {
    "collapsed": true
   },
   "outputs": [],
   "source": [
    "#WL1"
   ]
  },
  {
   "cell_type": "code",
   "execution_count": 22,
   "metadata": {
    "collapsed": true
   },
   "outputs": [],
   "source": [
    "miss_LP = parameter_formatting_WL(\"miss_LP.csv\")\n",
    "\n",
    "WL2 = miss_LP.loc[:,'Wavelength(nm)'].groupby(np.arange(len(miss_LP.loc[:,'Wavelength(nm)']))//5).mean() #index for WL\n",
    "\n",
    "ISmiss2 = (miss_LP.loc[:,'IS(A)']/miss_SP.loc[:,'M(V)'])\n",
    "ISmiss_b = ISmiss2.groupby(np.arange(len(ISmiss2))//5).mean()       #taking mean of 5 values rowwise\n",
    "\n",
    "ISPLEff = PLFluxIn/(ISmiss_b.loc[3:10].mean())  #Pl wavelength index from 660 to 730."
   ]
  },
  {
   "cell_type": "code",
   "execution_count": 23,
   "metadata": {
    "collapsed": true
   },
   "outputs": [],
   "source": [
    "#WL2"
   ]
  },
  {
   "cell_type": "code",
   "execution_count": 24,
   "metadata": {
    "collapsed": true
   },
   "outputs": [],
   "source": [
    "#Measured Data\n",
    "X = 37 # no of steps in x = difference of x co-ordinates times 2 plus 1\n",
    "Y = 19 # no of steps in y = difference of x co-ordinates times 2 plus 1\n"
   ]
  },
  {
   "cell_type": "code",
   "execution_count": 25,
   "metadata": {
    "collapsed": true
   },
   "outputs": [],
   "source": [
    "#Absorption\n",
    "data1 = parameter_formatting_data(\"pos1_9x18um_SP.csv\")\n",
    "\n",
    "RI = (data1.loc[:,'Ref(V)']/data1.loc[:,'M(V)'])\n",
    "\n",
    "ISI = data1.loc[:,'IS(A)']/data1.loc[:,'M(V)']\n",
    "\n",
    "BI = data1.loc[:,'M(V)']\n",
    "\n",
    "BmeanI = BI.mean()\n",
    "\n",
    "#In this line the original data is formatted as a matrix of columns but I have a series as of now.\n",
    "A = 1 - ISI/ISrefI - RI/RrefI  #-0.03 (didn't understand properly what is this?)"
   ]
  },
  {
   "cell_type": "code",
   "execution_count": 26,
   "metadata": {
    "collapsed": true
   },
   "outputs": [],
   "source": [
    "#BmeanI"
   ]
  },
  {
   "cell_type": "code",
   "execution_count": 27,
   "metadata": {
    "collapsed": true
   },
   "outputs": [],
   "source": [
    "#A"
   ]
  },
  {
   "cell_type": "code",
   "execution_count": 28,
   "metadata": {
    "collapsed": true
   },
   "outputs": [],
   "source": [
    "#PL\n",
    "\n",
    "data2 = parameter_formatting_data(\"pos1_9x18um_LP.csv\")\n",
    "\n",
    "BPL = data2.loc[:,'M(V)']\n",
    "\n",
    "RPL = data2.loc[:,'Ref(V)']               #/data2.loc[:,'M(V)']   #-(1-A).*RBGPL.*BPL\n",
    "\n",
    "ISPL = data2.loc[:,'IS(A)']               #/data1.loc[:,'M(V)']  #%-(1-A).*ISBGPL.*BPL"
   ]
  },
  {
   "cell_type": "code",
   "execution_count": null,
   "metadata": {
    "collapsed": true
   },
   "outputs": [],
   "source": []
  },
  {
   "cell_type": "code",
   "execution_count": 29,
   "metadata": {
    "collapsed": true
   },
   "outputs": [],
   "source": [
    "AbsFlux = (AFluxIn*A)*BmeanI"
   ]
  },
  {
   "cell_type": "code",
   "execution_count": 30,
   "metadata": {},
   "outputs": [
    {
     "data": {
      "text/plain": [
       "pandas.core.series.Series"
      ]
     },
     "execution_count": 30,
     "metadata": {},
     "output_type": "execute_result"
    }
   ],
   "source": [
    "type(AbsFlux)"
   ]
  },
  {
   "cell_type": "code",
   "execution_count": 31,
   "metadata": {
    "collapsed": true
   },
   "outputs": [],
   "source": [
    "FluxOut = RPL*RPLEff + ISPL*ISPLEff"
   ]
  },
  {
   "cell_type": "code",
   "execution_count": 32,
   "metadata": {},
   "outputs": [],
   "source": [
    "PLQY = (FluxOut/AbsFlux)*100"
   ]
  },
  {
   "cell_type": "code",
   "execution_count": 35,
   "metadata": {},
   "outputs": [
    {
     "data": {
      "text/plain": [
       "Text(0.5,1,'Absorption Flux')"
      ]
     },
     "execution_count": 35,
     "metadata": {},
     "output_type": "execute_result"
    },
    {
     "data": {
      "image/png": "[encoded data removed]",
      "text/plain": [
       "<matplotlib.figure.Figure at 0x231b2f64e80>"
      ]
     },
     "metadata": {},
     "output_type": "display_data"
    }
   ],
   "source": [
    "#plotting the absorption heatmap\n",
    "AbsFlux = AbsFlux.reshape((Y,X)) #put rows, columns\n",
    "sns.set_context(\"poster\")\n",
    "plt.figure(figsize=(15,7.5))\n",
    "sns.heatmap(AbsFlux, cmap = \"YlGnBu\", annot=False,) #linewidths=1\n",
    "plt.xlabel(\"µm\", size = 35)\n",
    "plt.ylabel(\"µm\", size = 35)\n",
    "plt.title(\"Absorption Flux\", size = 35)\n",
    "#plt.savefig(\"U:\\\\Results\\\\Quantum yield setup from Sander\\\\1. 180218_test\\\\Absorption.png\", dpi = 300)"
   ]
  },
  {
   "cell_type": "code",
   "execution_count": 36,
   "metadata": {},
   "outputs": [
    {
     "data": {
      "text/plain": [
       "Text(0.5,1,'Emission Flux')"
      ]
     },
     "execution_count": 36,
     "metadata": {},
     "output_type": "execute_result"
    },
    {
     "data": {
      "image/png": "[encoded data removed]",
      "text/plain": [
       "<matplotlib.figure.Figure at 0x231b3414240>"
      ]
     },
     "metadata": {},
     "output_type": "display_data"
    }
   ],
   "source": [
    "#plotting the PL heatmap\n",
    "\n",
    "FluxOut = FluxOut.reshape((Y,X)) #put rows, columns\n",
    "sns.set_context(\"poster\")\n",
    "plt.figure(figsize=(15,7.5))\n",
    "sns.heatmap(FluxOut, cmap = \"YlGnBu\", annot=False,)# linewidths=0.1 )\n",
    "plt.xlabel(\"µm\", size = 35)\n",
    "plt.ylabel(\"µm\", size = 35)\n",
    "plt.title(\"Emission Flux\", size = 35)\n",
    "#plt.savefig(\"U:\\\\Results\\\\Quantum yield setup from Sander\\\\1. 180218_test\\\\Emission.png\", dpi = 300)"
   ]
  },
  {
   "cell_type": "code",
   "execution_count": 37,
   "metadata": {},
   "outputs": [
    {
     "name": "stderr",
     "output_type": "stream",
     "text": [
      "C:\\ProgramData\\Anaconda3\\lib\\site-packages\\ipykernel_launcher.py:3: FutureWarning: reshape is deprecated and will raise in a subsequent release. Please use .values.reshape(...) instead\n",
      "  This is separate from the ipykernel package so we can avoid doing imports until\n"
     ]
    },
    {
     "data": {
      "text/plain": [
       "Text(0.5,1,'External PLQY')"
      ]
     },
     "execution_count": 37,
     "metadata": {},
     "output_type": "execute_result"
    },
    {
     "data": {
      "image/png": "[encoded data removed]",
      "text/plain": [
       "<matplotlib.figure.Figure at 0x231b2a48f98>"
      ]
     },
     "metadata": {},
     "output_type": "display_data"
    }
   ],
   "source": [
    "#plotting the External PLQY heatmap\n",
    "\n",
    "PLQY = PLQY.reshape((Y,X)) #put rows, columns\n",
    "sns.set_context(\"poster\")\n",
    "plt.figure(figsize=(15,7.5))\n",
    "sns.heatmap(PLQY, cmap = \"YlGnBu\", annot=False, vmin = 12, vmax=20,)# linewidths=0.1)\n",
    "plt.xlabel(\"µm\", size = 35)\n",
    "plt.ylabel(\"µm\", size = 35)\n",
    "plt.title(\"External PLQY\", size = 35)\n",
    "#plt.savefig(\"U:\\\\Results\\\\Quantum yield setup from Sander\\\\1. 180218_test\\\\External PLQY.png\", dpi = 300)"
   ]
  }
 ],
 "metadata": {
  "kernelspec": {
   "display_name": "Python 3",
   "language": "python",
   "name": "python3"
  },
  "language_info": {
   "codemirror_mode": {
    "name": "ipython",
    "version": 3
   },
   "file_extension": ".py",
   "mimetype": "text/x-python",
   "name": "python",
   "nbconvert_exporter": "python",
   "pygments_lexer": "ipython3",
   "version": "3.8.3"
  }
 },
 "nbformat": 4,
 "nbformat_minor": 2
}
